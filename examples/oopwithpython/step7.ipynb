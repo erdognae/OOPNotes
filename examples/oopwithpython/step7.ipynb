{
 "cells": [
  {
   "cell_type": "code",
   "execution_count": 19,
   "metadata": {},
   "outputs": [],
   "source": [
    "class Product(object):\n",
    "    def __init__(self,name:str=\"Default\",price:float=0,quantity:int=1): #Yapıcı metod \n",
    "        self.__name=name # __ ile sınıf dışından erişim kısıtlanmıştır.\n",
    "        self.__price=price\n",
    "        self.__quantitiy=quantity\n",
    "        print(f\"+Sınıftan {name} isimli bir nesne türetildi.\")\n",
    "    \n",
    "    @property # Bu dekaratör  Getter metodu işlevi görür\n",
    "    def name(self):\n",
    "        return self.__name       \n",
    "\n",
    "    @name.setter # Bu dekaratör Setter metodu işlevi görür\n",
    "    def name(self,value):\n",
    "        self.__name=value\n",
    "        \n",
    "        \n",
    "    @property # Getter metodu işlevi görür\n",
    "    def price(self):\n",
    "        return self.__price\n",
    "    @price.setter # Setter metodu işlevi görür\n",
    "    def price(self,value):\n",
    "        self.__price=value\n",
    "        \n",
    "    @property \n",
    "    def quantity(self):\n",
    "        return self.__quantitiy\n",
    "    @quantity.setter \n",
    "    def quantity(self,value):\n",
    "        self.__quantitiy=value\n",
    "        \n",
    "        \n",
    "    def get_total_price(self):\n",
    "        return self.price * self.quantity\n",
    "    \n",
    "    def __repr__(self) -> str:\n",
    "        return f\"<{self.name} isimli bir obje türetildi ve diskte yer ayrıldı.>\"\n",
    "    \n",
    "\n",
    "\n"
   ]
  },
  {
   "cell_type": "markdown",
   "metadata": {},
   "source": [
    "Python'da __repr__, __str__, __eq__ ve diğer özel metodlar, temel sınıf olan object sınıfından devralınır. Bu metodlar, tüm nesnelerin temel davranışlarını tanımlar ve bu sınıf tarafından sağlanır. Yukarıda ise bu özel metodun davranışları değiştirilmiştir.(Metod geçersiz kılma-Polimorfizim)\n",
    "\n",
    "\n",
    "Python'daki özel metodlar (ya da dunder metodlar — double underscore methods), belirli bir işlevi gerçekleştirmek için kullanılan metodlardır. Bu metodlar genellikle çift alt çizgi ile başlar ve biter (örneğin, __init__, __str__, __repr__).\n",
    "\n",
    "Bu özel metodların varsayılan davranışları şunlardır:\n",
    "\n",
    "__repr__: Varsayılan olarak nesnenin sınıf adı ve bellek adresini döndürür.\n",
    "__str__: Varsayılan olarak __repr__ metodunun döndürdüğü değeri döndürür.\n",
    "__eq__: Varsayılan olarak nesnelerin bellek adreslerinin eşit olup olmadığını kontrol eder. İki nesnenin eşitliğini kontrol eder. == operatörü kullanıldığında çağrılır.\n",
    "\n",
    "Bu özel metodlar base class olan object classtan  inherit edilmiştir.\n",
    "\n"
   ]
  },
  {
   "cell_type": "code",
   "execution_count": 20,
   "metadata": {},
   "outputs": [
    {
     "name": "stdout",
     "output_type": "stream",
     "text": [
      "+Sınıftan Laptop isimli bir nesne türetildi.\n",
      "<Laptop isimli bir obje türetildi ve diskte yer ayrıldı.>\n",
      "+Sınıftan Computer isimli bir nesne türetildi.\n",
      "+Sınıftan Laptop isimli bir nesne türetildi.\n"
     ]
    }
   ],
   "source": [
    "item1 = Product(\"Laptop\",24000,3) #Sınıftan bir nesne parametreli olarka oluşturulmuştur\n",
    "print(item1) # __repr__ çağrılır.\n",
    "\n",
    "item2= Product(\"Computer\",2500,4)\n",
    "item3= Product(\"Laptop\",24000,3) "
   ]
  },
  {
   "cell_type": "markdown",
   "metadata": {},
   "source": [
    "Yukarıda  def __repr__(self) -> str: aslında base classta tanımlı bir metoddur ve yukarıda onu polimorfizim aracılığıyla özelleştirilerek  \"<Laptop isimli bir obje türetildi ve diskte yer ayrıldı.>\" şeklinde bir çıktı almayı sağladık. Yukarıda belirtildiği gibi  Product classı temel sınıf olan  \"object\" sınıfından türetilmiş ve onun özelliklerini devralmıştır( Kalıtım)\n",
    "\n",
    "Python 3'te, tüm sınıflar varsayılan olarak object sınıfından türetilir, bu nedenle class Product: şeklinde sınıf tanımlamak yeterlidir. object'i belirtmek, Python 2 uyumluluğu sağlamak veya kodun daha açık olması için yapılabilir.\n",
    "\n",
    "Python gibi tam OOP dillerde her şeyin temeli objectdir. Bu, dilin her şeyin bir nesne olduğu ilkesine uygunluğunu sağlar.Temel Sınıf (object): Python'daki tüm sınıflar, doğrudan veya dolaylı olarak object sınıfından türetilir. object sınıfı, Python'daki tüm nesnelerin temel sınıfıdır ve bu sınıf, tüm Python sınıflarının ve nesnelerinin temel davranışlarını sağlar."
   ]
  },
  {
   "cell_type": "code",
   "execution_count": 21,
   "metadata": {},
   "outputs": [
    {
     "name": "stdout",
     "output_type": "stream",
     "text": [
      "False\n"
     ]
    }
   ],
   "source": [
    "print(item1 == item3)"
   ]
  }
 ],
 "metadata": {
  "kernelspec": {
   "display_name": "Python 3",
   "language": "python",
   "name": "python3"
  },
  "language_info": {
   "codemirror_mode": {
    "name": "ipython",
    "version": 3
   },
   "file_extension": ".py",
   "mimetype": "text/x-python",
   "name": "python",
   "nbconvert_exporter": "python",
   "pygments_lexer": "ipython3",
   "version": "3.12.0"
  }
 },
 "nbformat": 4,
 "nbformat_minor": 2
}
