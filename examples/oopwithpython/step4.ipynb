{
 "cells": [
  {
   "cell_type": "code",
   "execution_count": 23,
   "metadata": {},
   "outputs": [],
   "source": [
    "class Product():\n",
    "    def __init__(self,name,price,quantity): #Yapıcı metod \n",
    "        self.name=name\n",
    "        self.price=price\n",
    "        self.quantitiy=quantity\n",
    "        print(f\"+Sınıftan {name} isimli bir nesne türetildi.\")\n",
    "\n",
    "\n"
   ]
  },
  {
   "cell_type": "code",
   "execution_count": 24,
   "metadata": {},
   "outputs": [
    {
     "name": "stdout",
     "output_type": "stream",
     "text": [
      "+Sınıftan Laptop isimli bir nesne türetildi.\n"
     ]
    }
   ],
   "source": [
    "item1 = Product(\"Laptop\",24000,3) #Sınıftan bir nesne parametreli olarka oluşturulmuştur.\n"
   ]
  },
  {
   "cell_type": "code",
   "execution_count": 25,
   "metadata": {},
   "outputs": [
    {
     "name": "stdout",
     "output_type": "stream",
     "text": [
      "Laptop\n",
      "24000\n",
      "3\n"
     ]
    }
   ],
   "source": [
    "print(item1.name)\n",
    "print(item1.price)\n",
    "print(item1.quantitiy)"
   ]
  }
 ],
 "metadata": {
  "kernelspec": {
   "display_name": "Python 3",
   "language": "python",
   "name": "python3"
  },
  "language_info": {
   "codemirror_mode": {
    "name": "ipython",
    "version": 3
   },
   "file_extension": ".py",
   "mimetype": "text/x-python",
   "name": "python",
   "nbconvert_exporter": "python",
   "pygments_lexer": "ipython3",
   "version": "3.12.0"
  }
 },
 "nbformat": 4,
 "nbformat_minor": 2
}
