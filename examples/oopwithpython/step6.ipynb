{
 "cells": [
  {
   "cell_type": "code",
   "execution_count": 41,
   "metadata": {},
   "outputs": [],
   "source": [
    "class Product:\n",
    "    def __init__(self,name:str=\"Default\",price:float=0,quantity:int=1): #Yapıcı metod \n",
    "        self.__name=name # __ ile sınıf dışından erişim kısıtlanmıştır.\n",
    "        self.__price=price\n",
    "        self.__quantitiy=quantity\n",
    "        print(f\"+Sınıftan {name} isimli bir nesne türetildi.\")\n",
    "    \n",
    "    @property # Bu dekaratör  Getter metodu işlevi görür\n",
    "    def name(self):\n",
    "        return self.__name       \n",
    "\n",
    "    @name.setter # Bu dekaratör Setter metodu işlevi görür\n",
    "    def name(self,value):\n",
    "        self.__name=value\n",
    "        \n",
    "        \n",
    "    @property # Getter metodu işlevi görür\n",
    "    def price(self):\n",
    "        return self.__price\n",
    "    @price.setter # Setter metodu işlevi görür\n",
    "    def price(self,value):\n",
    "        self.__price=value\n",
    "        \n",
    "    @property \n",
    "    def quantity(self):\n",
    "        return self.__quantitiy\n",
    "    @quantity.setter \n",
    "    def quantity(self,value):\n",
    "        self.__quantitiy=value\n",
    "        \n",
    "        \n",
    "    def get_total_price(self):\n",
    "        return self.price * self.quantity\n",
    "    \n",
    "\n",
    "\n"
   ]
  },
  {
   "cell_type": "code",
   "execution_count": 42,
   "metadata": {},
   "outputs": [
    {
     "name": "stdout",
     "output_type": "stream",
     "text": [
      "+Sınıftan Laptop isimli bir nesne türetildi.\n",
      "Laptop\n"
     ]
    }
   ],
   "source": [
    "item1 = Product(\"Laptop\",24000,3) #Sınıftan bir nesne parametreli olarka oluşturulmuştur\n",
    "print(item1.name)\n"
   ]
  },
  {
   "cell_type": "code",
   "execution_count": 43,
   "metadata": {},
   "outputs": [
    {
     "name": "stdout",
     "output_type": "stream",
     "text": [
      "+Sınıftan Default isimli bir nesne türetildi.\n"
     ]
    }
   ],
   "source": [
    "item2 = Product()"
   ]
  },
  {
   "cell_type": "code",
   "execution_count": 44,
   "metadata": {},
   "outputs": [
    {
     "name": "stdout",
     "output_type": "stream",
     "text": [
      "72000\n"
     ]
    }
   ],
   "source": [
    "print(item1.get_total_price()) "
   ]
  },
  {
   "cell_type": "markdown",
   "metadata": {},
   "source": [
    "Python genel olarak type-safe (tür güvenli) bir dil olarak kabul edilmez, çünkü dinamik tür kontrolü yapar ve türlerin program çalışırken kontrol edilmesini sağlar. Ancak, bu kontrol statik olarak (kodun yazıldığı sırada) yapılmadığı için Python'da tür hataları çalışma zamanı (runtime) sırasında ortaya çıkabilir.\n",
    "\n",
    "Type Safety (Tür Güvenliği) Nedir?\n",
    "Tür güvenliği (type safety), bir programlama dilinin yanlış türdeki verilere karşı güvenli olup olmadığını ifade eder. Tür güvenliğine sahip dillerde, programlama hataları ve beklenmeyen davranışlar, yanlış türde veriler kullanıldığında en aza indirgenir.\n",
    "\n",
    "Type Safety (Tür Güvenliği) Nedir?\n",
    "Tür güvenliği (type safety), bir programlama dilinin yanlış türdeki verilere karşı güvenli olup olmadığını ifade eder. Tür güvenliğine sahip dillerde, programlama hataları ve beklenmeyen davranışlar, yanlış türde veriler kullanıldığında en aza indirgenir.\n",
    "\n",
    "----------------\n",
    "\n",
    "\n",
    "Python'da type hints (örneğin, name: str gibi) sadece geliştiricilere rehberlik etmek ve kodu daha anlaşılır kılmak amacıyla kullanılır. Python dinamik tür kontrolü yapan bir dil olduğu için, bu type hints'ler zorlayıcı değildir ve Python'un çalışma zamanı (runtime) tarafından otomatik olarak kontrol edilmez. Yani, bir parametreyi str olarak belirtmenize rağmen, Python bu değerin gerçekten bir str olup olmadığını çalışma zamanında kontrol etmez.\n",
    "\n",
    "Neden Python Tür Kontrolü Yapmıyor?\n",
    "\n",
    "Python dinamik bir dil olduğu için:\n",
    "\n",
    "Tür ipuçları (type hints) zorlayıcı değildir.\n",
    "Python, türleri çalışma zamanında kontrol eder ve statik tür kontrolü yapmaz. Yani değişkenlerin türleri çalışma sırasında atanır ve type hints kullanılsa bile Python bu tür ipuçlarını zorlayıcı olarak değerlendirmez."
   ]
  }
 ],
 "metadata": {
  "kernelspec": {
   "display_name": "Python 3",
   "language": "python",
   "name": "python3"
  },
  "language_info": {
   "codemirror_mode": {
    "name": "ipython",
    "version": 3
   },
   "file_extension": ".py",
   "mimetype": "text/x-python",
   "name": "python",
   "nbconvert_exporter": "python",
   "pygments_lexer": "ipython3",
   "version": "3.12.0"
  }
 },
 "nbformat": 4,
 "nbformat_minor": 2
}
