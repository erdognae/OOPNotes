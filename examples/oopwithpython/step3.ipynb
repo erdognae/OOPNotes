{
 "cells": [
  {
   "cell_type": "code",
   "execution_count": 1,
   "metadata": {},
   "outputs": [],
   "source": [
    "class Product:\n",
    "    def __init__(self): #Yapıcı metod \n",
    "        print(\"Sınıftan bir nesne türetildi\")\n",
    "    \n",
    "    pass\n"
   ]
  },
  {
   "cell_type": "code",
   "execution_count": 2,
   "metadata": {},
   "outputs": [
    {
     "name": "stdout",
     "output_type": "stream",
     "text": [
      "Sınıftan bir nesne türetildi\n"
     ]
    }
   ],
   "source": [
    "item1 = Product()\n",
    "\n",
    "\n",
    "item1.name=\"Laptop\"\n",
    "item1.print=24000\n",
    "item1.quantity=2\n",
    "\n"
   ]
  },
  {
   "cell_type": "code",
   "execution_count": 3,
   "metadata": {},
   "outputs": [
    {
     "name": "stdout",
     "output_type": "stream",
     "text": [
      "Laptop\n"
     ]
    }
   ],
   "source": [
    "print(item1.name)"
   ]
  },
  {
   "cell_type": "markdown",
   "metadata": {},
   "source": [
    "Python'da bir sınıfın örneği (instance) oluşturulduğunda, her örnek birbirinden bağımsızdır ve her bir örnek kendi özelliklerine (veri üyelerine) sahip olabilir. self, her bir örneğin kendi özelliklerini veya diğer metodlarını referans almak için kullanılır."
   ]
  }
 ],
 "metadata": {
  "kernelspec": {
   "display_name": "Python 3",
   "language": "python",
   "name": "python3"
  },
  "language_info": {
   "codemirror_mode": {
    "name": "ipython",
    "version": 3
   },
   "file_extension": ".py",
   "mimetype": "text/x-python",
   "name": "python",
   "nbconvert_exporter": "python",
   "pygments_lexer": "ipython3",
   "version": "3.12.0"
  }
 },
 "nbformat": 4,
 "nbformat_minor": 2
}
