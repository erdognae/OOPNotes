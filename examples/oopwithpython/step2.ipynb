{
 "cells": [
  {
   "cell_type": "code",
   "execution_count": null,
   "metadata": {},
   "outputs": [],
   "source": [
    "class Product:\n",
    "    pass\n"
   ]
  },
  {
   "cell_type": "code",
   "execution_count": null,
   "metadata": {},
   "outputs": [],
   "source": [
    "item1 = Product()\n",
    "\n",
    "\n",
    "#Dinamik özellik(attirbute) tanımı yapılmıştır. Yukardaki class tanımından görüleceği üzere de sınıfın herhangi bir özelliği yoktur.\n",
    "item1.name=\"Laptop\"\n",
    "item1.print=24000\n",
    "item1.quantity=2\n"
   ]
  }
 ],
 "metadata": {
  "language_info": {
   "name": "python"
  }
 },
 "nbformat": 4,
 "nbformat_minor": 2
}
