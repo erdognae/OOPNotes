{
 "cells": [
  {
   "cell_type": "code",
   "execution_count": 19,
   "metadata": {},
   "outputs": [],
   "source": [
    "class Product():\n",
    "    def __init__(self,name,price,quantity): #Yapıcı metod \n",
    "        self.__name=name # __ ile sınıf dışından erişim kısıtlanmıştır.\n",
    "        self.__price=price\n",
    "        self.__quantitiy=quantity\n",
    "        print(f\"+Sınıftan {name} isimli bir nesne türetildi.\")\n",
    "\n",
    "    @property # Bu dekaratör  Getter metodu işlevi görür\n",
    "    def name(self):\n",
    "        return self.__name\n",
    "    @name.setter # Bu dekaratör Setter metodu işlevi görür\n",
    "    def name(self,value):\n",
    "        self.__name=value\n",
    "        \n",
    "        \n",
    "    @property # Getter metodu işlevi görür\n",
    "    def price(self):\n",
    "        return self.__price\n",
    "    @price.setter # Setter metodu işlevi görür\n",
    "    def price(self,value):\n",
    "        self.__price=value\n",
    "    \n",
    "\n",
    "\n"
   ]
  },
  {
   "cell_type": "code",
   "execution_count": 20,
   "metadata": {},
   "outputs": [
    {
     "name": "stdout",
     "output_type": "stream",
     "text": [
      "+Sınıftan Laptop isimli bir nesne türetildi.\n"
     ]
    }
   ],
   "source": [
    "item1 = Product(\"Laptop\",24000,3) #Sınıftan bir nesne parametreli olarka oluşturulmuştur.\n"
   ]
  },
  {
   "cell_type": "markdown",
   "metadata": {},
   "source": [
    "@property dekoratörü kullanılarak, yas niteliği bir fonksiyonmuş gibi çağrılır ama aslında arka planda _yas niteliğini döner. Yani ogrenci.yas yazıldığında ogrenci._yas değerine erişilir.\n",
    "\n",
    "Faydaları:\n",
    "Veri gizliliği ve güvenliği: Getter ve setter'lar, sınıf içindeki verilere doğrudan erişimi engeller ve verinin korunmasını sağlar. Değişkenleri private (korumalı) hale getirir ve kullanıcıların bu verilere ancak belirlenen kurallar çerçevesinde erişmesine olanak tanır. Örneğin, bir yaş değeri negatif olamaz, bu yüzden setter içinde bu kontrol yapılır/yapılabilir."
   ]
  },
  {
   "cell_type": "code",
   "execution_count": 21,
   "metadata": {},
   "outputs": [
    {
     "name": "stdout",
     "output_type": "stream",
     "text": [
      "Laptop\n",
      "HP \n"
     ]
    }
   ],
   "source": [
    "print(item1.name)\n",
    "item1.name=\"HP \"\n",
    "print(item1.name)"
   ]
  }
 ],
 "metadata": {
  "kernelspec": {
   "display_name": "Python 3",
   "language": "python",
   "name": "python3"
  },
  "language_info": {
   "codemirror_mode": {
    "name": "ipython",
    "version": 3
   },
   "file_extension": ".py",
   "mimetype": "text/x-python",
   "name": "python",
   "nbconvert_exporter": "python",
   "pygments_lexer": "ipython3",
   "version": "3.12.0"
  }
 },
 "nbformat": 4,
 "nbformat_minor": 2
}
